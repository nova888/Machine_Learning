{
 "cells": [
  {
   "cell_type": "code",
   "execution_count": 1,
   "id": "d08b02d2",
   "metadata": {},
   "outputs": [
    {
     "data": {
      "text/html": [
       "<div>\n",
       "<style scoped>\n",
       "    .dataframe tbody tr th:only-of-type {\n",
       "        vertical-align: middle;\n",
       "    }\n",
       "\n",
       "    .dataframe tbody tr th {\n",
       "        vertical-align: top;\n",
       "    }\n",
       "\n",
       "    .dataframe thead th {\n",
       "        text-align: right;\n",
       "    }\n",
       "</style>\n",
       "<table border=\"1\" class=\"dataframe\">\n",
       "  <thead>\n",
       "    <tr style=\"text-align: right;\">\n",
       "      <th></th>\n",
       "      <th>ID</th>\n",
       "      <th>Usia</th>\n",
       "      <th>Status</th>\n",
       "      <th>Kelamin</th>\n",
       "      <th>Memiliki_Mobil</th>\n",
       "      <th>Penghasilan</th>\n",
       "      <th>Beli_Mobil</th>\n",
       "    </tr>\n",
       "  </thead>\n",
       "  <tbody>\n",
       "    <tr>\n",
       "      <th>count</th>\n",
       "      <td>1000.000000</td>\n",
       "      <td>1000.000000</td>\n",
       "      <td>1000.000000</td>\n",
       "      <td>1000.000000</td>\n",
       "      <td>1000.00000</td>\n",
       "      <td>1000.00000</td>\n",
       "      <td>1000.000000</td>\n",
       "    </tr>\n",
       "    <tr>\n",
       "      <th>mean</th>\n",
       "      <td>500.500000</td>\n",
       "      <td>43.532000</td>\n",
       "      <td>1.469000</td>\n",
       "      <td>0.481000</td>\n",
       "      <td>0.95200</td>\n",
       "      <td>270.09000</td>\n",
       "      <td>0.633000</td>\n",
       "    </tr>\n",
       "    <tr>\n",
       "      <th>std</th>\n",
       "      <td>288.819436</td>\n",
       "      <td>12.672078</td>\n",
       "      <td>1.073402</td>\n",
       "      <td>0.499889</td>\n",
       "      <td>0.80146</td>\n",
       "      <td>95.23681</td>\n",
       "      <td>0.482228</td>\n",
       "    </tr>\n",
       "    <tr>\n",
       "      <th>min</th>\n",
       "      <td>1.000000</td>\n",
       "      <td>24.000000</td>\n",
       "      <td>0.000000</td>\n",
       "      <td>0.000000</td>\n",
       "      <td>0.00000</td>\n",
       "      <td>95.00000</td>\n",
       "      <td>0.000000</td>\n",
       "    </tr>\n",
       "    <tr>\n",
       "      <th>25%</th>\n",
       "      <td>250.750000</td>\n",
       "      <td>33.000000</td>\n",
       "      <td>1.000000</td>\n",
       "      <td>0.000000</td>\n",
       "      <td>0.00000</td>\n",
       "      <td>187.00000</td>\n",
       "      <td>0.000000</td>\n",
       "    </tr>\n",
       "    <tr>\n",
       "      <th>50%</th>\n",
       "      <td>500.500000</td>\n",
       "      <td>43.000000</td>\n",
       "      <td>1.000000</td>\n",
       "      <td>0.000000</td>\n",
       "      <td>1.00000</td>\n",
       "      <td>258.50000</td>\n",
       "      <td>1.000000</td>\n",
       "    </tr>\n",
       "    <tr>\n",
       "      <th>75%</th>\n",
       "      <td>750.250000</td>\n",
       "      <td>53.000000</td>\n",
       "      <td>2.000000</td>\n",
       "      <td>1.000000</td>\n",
       "      <td>2.00000</td>\n",
       "      <td>352.25000</td>\n",
       "      <td>1.000000</td>\n",
       "    </tr>\n",
       "    <tr>\n",
       "      <th>max</th>\n",
       "      <td>1000.000000</td>\n",
       "      <td>164.000000</td>\n",
       "      <td>3.000000</td>\n",
       "      <td>1.000000</td>\n",
       "      <td>4.00000</td>\n",
       "      <td>490.00000</td>\n",
       "      <td>1.000000</td>\n",
       "    </tr>\n",
       "  </tbody>\n",
       "</table>\n",
       "</div>"
      ],
      "text/plain": [
       "                ID         Usia       Status      Kelamin  Memiliki_Mobil  \\\n",
       "count  1000.000000  1000.000000  1000.000000  1000.000000      1000.00000   \n",
       "mean    500.500000    43.532000     1.469000     0.481000         0.95200   \n",
       "std     288.819436    12.672078     1.073402     0.499889         0.80146   \n",
       "min       1.000000    24.000000     0.000000     0.000000         0.00000   \n",
       "25%     250.750000    33.000000     1.000000     0.000000         0.00000   \n",
       "50%     500.500000    43.000000     1.000000     0.000000         1.00000   \n",
       "75%     750.250000    53.000000     2.000000     1.000000         2.00000   \n",
       "max    1000.000000   164.000000     3.000000     1.000000         4.00000   \n",
       "\n",
       "       Penghasilan   Beli_Mobil  \n",
       "count   1000.00000  1000.000000  \n",
       "mean     270.09000     0.633000  \n",
       "std       95.23681     0.482228  \n",
       "min       95.00000     0.000000  \n",
       "25%      187.00000     0.000000  \n",
       "50%      258.50000     1.000000  \n",
       "75%      352.25000     1.000000  \n",
       "max      490.00000     1.000000  "
      ]
     },
     "execution_count": 1,
     "metadata": {},
     "output_type": "execute_result"
    }
   ],
   "source": [
    "import pandas as pd\n",
    "df1 = pd.read_csv('calonpembelimobil.csv')\n",
    "df1.describe()"
   ]
  },
  {
   "cell_type": "code",
   "execution_count": 2,
   "id": "8e754119",
   "metadata": {},
   "outputs": [],
   "source": [
    "df1 = df1[df1['Usia'] <= 100]"
   ]
  },
  {
   "cell_type": "code",
   "execution_count": 4,
   "id": "b97cee99",
   "metadata": {},
   "outputs": [
    {
     "data": {
      "text/plain": [
       "ID                0\n",
       "Usia              0\n",
       "Status            0\n",
       "Kelamin           0\n",
       "Memiliki_Mobil    0\n",
       "Penghasilan       0\n",
       "Beli_Mobil        0\n",
       "dtype: int64"
      ]
     },
     "execution_count": 4,
     "metadata": {},
     "output_type": "execute_result"
    }
   ],
   "source": [
    "df1.isnull().sum()"
   ]
  },
  {
   "cell_type": "code",
   "execution_count": null,
   "id": "1dbffd0d",
   "metadata": {},
   "outputs": [],
   "source": []
  }
 ],
 "metadata": {
  "kernelspec": {
   "display_name": "base",
   "language": "python",
   "name": "python3"
  },
  "language_info": {
   "codemirror_mode": {
    "name": "ipython",
    "version": 3
   },
   "file_extension": ".py",
   "mimetype": "text/x-python",
   "name": "python",
   "nbconvert_exporter": "python",
   "pygments_lexer": "ipython3",
   "version": "3.12.7"
  }
 },
 "nbformat": 4,
 "nbformat_minor": 5
}
